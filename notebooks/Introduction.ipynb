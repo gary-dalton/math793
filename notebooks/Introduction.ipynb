{
 "cells": [
  {
   "cell_type": "code",
   "execution_count": 1,
   "id": "hungry-albuquerque",
   "metadata": {},
   "outputs": [],
   "source": [
    "import numpy as np\n",
    "%matplotlib inline\n",
    "from pylab import *\n",
    "# from numpy import linalg\n",
    "# import math\n",
    "# import cProfile\n",
    "import time"
   ]
  },
  {
   "cell_type": "markdown",
   "id": "renewable-pastor",
   "metadata": {},
   "source": [
    "# Introduction"
   ]
  },
  {
   "cell_type": "markdown",
   "id": "cognitive-south",
   "metadata": {},
   "source": [
    "The goal of this project is to solve a system of linear equations using Cramer's rule instead of using the current standard methods.\n",
    "\n",
    "We will consider linear equations in the form of $Ax=b$, where $A$ is a non-singular $n\\times n$ matrix, $b$ is a $n\\times 1$ unknown vector, and $b$ is a given $n\\times 1$ vector. Cramer's rules states that\n",
    "\\begin{align*}\n",
    "\tx_i = \\frac{\\det(A_i(b))}{\\det(A)}, i=1,2,\\cdots,n\n",
    "\\end{align*}\n",
    "where $A_i(b)$ denotes the matrix $A$ with its ith column replaced by $b$.\n",
    "\n",
    "The standard method of computing the determinant by recursion of minors is not an efficient computation algorithm. In fact, its complexity is of $O(N!)$, which makes it useless for real world problems. Instead, methods are used to row reduce the matrix to obtain upper and lower triangular matrices and then compute the determinate from those."
   ]
  },
  {
   "cell_type": "markdown",
   "id": "inclusive-substance",
   "metadata": {},
   "source": [
    "## Example"
   ]
  },
  {
   "cell_type": "markdown",
   "id": "through-executive",
   "metadata": {},
   "source": [
    "Consider the following system of equations:\n",
    "\\begin{align*}\n",
    "\ta_{1,1}x_1 + a_{1,2}x_2 + a_{1,3}x_3 = b_1 \\\\\n",
    "\ta_{2,1}x_1 + a_{2,2}x_2 + a_{2,3}x_3 = b_2 \\\\\n",
    "\ta_{3,1}x_1 + a_{3,2}x_2 + a_{3,3}x_3 = b_3\n",
    "\\end{align*}\n",
    "With\n",
    "\\begin{align*}\n",
    "\t&A = \\begin{bmatrix}\n",
    "\t\ta_{1,1} & a_{1,2} & a_{1,3} \\\\\n",
    "\t\ta_{2,1} & a_{2,2} & a_{2,3} \\\\\n",
    "\t\ta_{3,1} & a_{3,2} & a_{3,3}\n",
    "\t\\end{bmatrix}, &\n",
    "\t&x = \\begin{bmatrix}x_1 \\\\\tx_2 \\\\\tx_3\t\\end{bmatrix}, & \n",
    "\tb = \\begin{bmatrix} b_1 \\\\\tb_2 \\\\\tb_3\t\\end{bmatrix}&\n",
    "\\end{align*}\n",
    "Then\n",
    "\\begin{align*}\n",
    "\tx_1 &= \\frac{\\det\\begin{bmatrix}\n",
    "\t\t\tb_1 & a_{1,2} & a_{1,3} \\\\\n",
    "\t\t\tb_2 & a_{2,2} & a_{2,3} \\\\\n",
    "\t\t\tb_3 & a_{3,2} & a_{3,3}\n",
    "\t\t\\end{bmatrix}\n",
    "\t}{\\det(A)}, &\n",
    "\tx_2 = \\frac{\\det\\begin{bmatrix}\n",
    "\t\t\ta_{1,1} & b_1 & a_{1,3} \\\\\n",
    "\t\t\ta_{2,1} & b_2 & a_{2,3} \\\\\n",
    "\t\t\ta_{3,1} & b_3 & a_{3,3}\n",
    "\t\t\\end{bmatrix}\n",
    "\t}{\\det(A)}, & &\n",
    "\tx_3 = \\frac{\\det\\begin{bmatrix}\n",
    "\t\t\ta_{1,1} & a_{1,2} & b_1 \\\\\n",
    "\t\t\ta_{2,1} & a_{2,2} & b_2 \\\\\n",
    "\t\t\ta_{3,1} & a_{3,2} & b_3\n",
    "\t\t\\end{bmatrix}\n",
    "\t}{\\det(A)}&\n",
    "\\end{align*}"
   ]
  },
  {
   "cell_type": "markdown",
   "id": "decreased-parish",
   "metadata": {},
   "source": [
    "# Current Approaches"
   ]
  },
  {
   "cell_type": "markdown",
   "id": "simplified-venezuela",
   "metadata": {},
   "source": [
    "Current technology with python to solve a system of linear equations uses *scipy.linalg.solve*. This in turn uses routines from LAPACK, \"The generic, symmetric, Hermitian and positive definite solutions are obtained via calling ?GESV, ?SYSV, ?HESV, and ?POSV routines of LAPACK respectively.\"\n",
    "\n",
    "There are specialized solutions for known special matrices, but we are most interested in the generic solver. From the documentation of ?GESV, we have, \n",
    "\n",
    "> ?GESV computes the solution to a real system of linear equations\n",
    "> \\begin{align*} \tA * X = B \\end{align*}\n",
    "> where A is an N-by-N matrix and X and B are N-by-NRHS matrices.\n",
    ">\n",
    "> The LU decomposition with partial pivoting and row interchanges is used to factor A as\n",
    "> \\begin{align*}A = P * L * U\\end{align*}\n",
    "> where P is a permutation matrix, L is unit lower triangular, and U is upper triangular.  The factored form of A is then used to solve the system of equations $A * X = B$.\n",
    "\n",
    "The complexity of the ?GESV algorithm is indicated as $O(.67N^3)$. This is obtained from table 3.13 in https://www.netlib.org/lapack/lug/node71.html."
   ]
  },
  {
   "cell_type": "markdown",
   "id": "urban-excitement",
   "metadata": {},
   "source": [
    "## Determinant"
   ]
  },
  {
   "cell_type": "markdown",
   "id": "hairy-directive",
   "metadata": {},
   "source": [
    "Determinants of triangular matrices are easily calculated as the product of the diagonal entries. Thus $\\det(L)$ and $\\det(U)$ are easily calculated by $O(n)$ operations. Since P is a permutation matrix, its determinant is trivial to calculate using the method of minors and is of order $O(n)$. $det(P)$ equals either $1$ or $-1$. So that we have:\n",
    "\\begin{align*}\n",
    "\t\\det(A) = \\det(P) * \\det(L) * \\det(U)\n",
    "\\end{align*}\n",
    "This is the method used by both numpy and scipy to calculate a determinant."
   ]
  },
  {
   "cell_type": "markdown",
   "id": "stopped-pakistan",
   "metadata": {},
   "source": [
    "## Cramer's Rule and LU Decomposition"
   ]
  },
  {
   "cell_type": "markdown",
   "id": "complete-swedish",
   "metadata": {},
   "source": [
    "Based on the above discussion, Cramer's Rule could be used to solve systems of equations by calculating the various determinants using LU decomposition as an intermediate step. This would give us computation complexity on the order of $O(.67N^3)$ for LU Decomposition $\\times$ $O(n)$ for the number of variables to solve. With the result of at best $O(.67N^4)$. This is due to the need to perform LU Decomposition for each $A_i(b)$. If there were a method to reduce this need we might have a competitive algorithm computationally.\n",
    "\n",
    "I did find one approach that does claim to reduce this complexity to about $O(N^3)$. This is from the Journal of Discrete Algorithms, http://web.eecs.utk.edu/~ielhanan/Papers/JDA2011.pdf, and it uses Chio's condensation method and a few other tricks. I am not certain of this algorithm yet."
   ]
  },
  {
   "cell_type": "markdown",
   "id": "fatal-discovery",
   "metadata": {},
   "source": [
    "# Test Matrices"
   ]
  },
  {
   "cell_type": "markdown",
   "id": "central-oklahoma",
   "metadata": {},
   "source": [
    "Test matrices are an important part of validating algorithms, both for computation speed and accuracy. There are many matrices available for direct download from https://math.nist.gov/MatrixMarket/index.html. These may be downloaded in MatrixMarket format and then pulled into the test program with the following code snippet."
   ]
  },
  {
   "cell_type": "code",
   "execution_count": 2,
   "id": "indie-preparation",
   "metadata": {},
   "outputs": [
    {
     "name": "stdout",
     "output_type": "stream",
     "text": [
      "(480, 480, 17088, 'coordinate', 'real', 'general')\n"
     ]
    }
   ],
   "source": [
    "from scipy import io\n",
    "print(io.mminfo('rbs480a.mtx'))\n",
    "a = io.mmread('rbs480a.mtx')\n",
    "A=  a.todense()\n",
    "n = len(A)"
   ]
  },
  {
   "cell_type": "markdown",
   "id": "herbal-symbol",
   "metadata": {},
   "source": [
    "However, many test matrices are generated. Often, these were generated using The Matrix Computation Toolkit for Matlab. A very useful python package to generate a variety of test matrices is in Scipy.sparse. See the code example:"
   ]
  },
  {
   "cell_type": "code",
   "execution_count": 3,
   "id": "extraordinary-cooperation",
   "metadata": {},
   "outputs": [],
   "source": [
    "# DOCUMENTATION: https://docs.scipy.org/doc/scipy/reference/sparse.html\n",
    "# https://docs.scipy.org/doc/scipy/reference/stats.html\n",
    "import scipy.sparse as sparse\n",
    "import scipy.stats as stats"
   ]
  },
  {
   "cell_type": "code",
   "execution_count": 4,
   "id": "rural-education",
   "metadata": {},
   "outputs": [
    {
     "data": {
      "text/plain": [
       "(array([[20., 29., 29.,  0., 29.],\n",
       "        [23.,  0., 26.,  0., 30.],\n",
       "        [28., 30., 30., 29., 31.],\n",
       "        [ 0., 23., 25., 34., 25.],\n",
       "        [29.,  0.,  0., 24., 26.]]),\n",
       " matrix([[ 0.        ,  0.        , 12.49613651],\n",
       "         [ 0.        ,  0.        ,  0.        ],\n",
       "         [23.13238941, 55.20213547,  7.8567203 ]]))"
      ]
     },
     "execution_count": 4,
     "metadata": {},
     "output_type": "execute_result"
    }
   ],
   "source": [
    "# sets reproducibility\n",
    "np.random.seed(5) \n",
    "# Poisson\n",
    "rvs = stats.poisson(18, loc=10).rvs\n",
    "# generate sparse 5x5 random matrix with density 0.75\n",
    "A = sparse.random(5, 5, density=0.75, data_rvs=rvs)\n",
    "rvs = stats.norm(loc=10, scale=20).rvs\n",
    "# create sparse 3x3 matrix with density 0.5\n",
    "B = sparse.random(3, 3, density=0.50, data_rvs=rvs)\n",
    "A = A.toarray()\n",
    "B = B.todense()\n",
    "A, B"
   ]
  },
  {
   "cell_type": "markdown",
   "id": "fluid-holmes",
   "metadata": {},
   "source": [
    "Is there a difference in using either of these forms, matrix or array? I think that either will work fine but numpy is most suitable for working with arrays for slicing and dicing. So mostly, this work will use the array form of the matrix."
   ]
  },
  {
   "cell_type": "markdown",
   "id": "medieval-helena",
   "metadata": {},
   "source": [
    "# Solve a linear system by Cramer's formula\n",
    "Consider the **linear systems** in the matrix form $Ax = b$"
   ]
  },
  {
   "cell_type": "markdown",
   "id": "biological-arkansas",
   "metadata": {},
   "source": [
    "## A Function for Cramer's rule"
   ]
  },
  {
   "cell_type": "code",
   "execution_count": 5,
   "id": "adult-sailing",
   "metadata": {},
   "outputs": [],
   "source": [
    "def cramer_solve(A, b):\n",
    "    \"\"\"Solve a system of linear equations using Cramer's Rule and LU Decomposition.\n",
    "    Returns the solution vector.\"\"\"\n",
    "    \n",
    "    # LU Decomposition\n",
    "    p,l,u = sla.lu(A)\n",
    "    DA = sla.det(p)* sla.det(l)*sla.det(u)\n",
    "    \n",
    "    # Solution storage\n",
    "    x = np.zeros((n,1))\n",
    "    x.astype(double)\n",
    "    \n",
    "    # Loop to find each solution\n",
    "    for i in range(len(b)):\n",
    "        Ai = np.copy(A)\n",
    "#         print(np.shape(Ai), np.shape(b))\n",
    "        Ai[:,i] = b[:,0]\n",
    "        p,l,u = sla.lu(Ai)\n",
    "        DAi = sla.det(p)* dia_det(l)*dia_det(u)\n",
    "        x[i] = DAi / DA\n",
    "#         print(x[i])\n",
    "    return x\n",
    "\n",
    "def dia_det(A):\n",
    "    det = 1\n",
    "    for i in range(len(b)):\n",
    "        det = det *  A[i,i]\n",
    "    return det"
   ]
  },
  {
   "cell_type": "markdown",
   "id": "formed-amendment",
   "metadata": {},
   "source": [
    "### Using cramer_solve"
   ]
  },
  {
   "cell_type": "code",
   "execution_count": 6,
   "id": "connected-placement",
   "metadata": {},
   "outputs": [],
   "source": [
    "# Set up a run and create test matrices\n",
    "import scipy.sparse as sparse\n",
    "import scipy.stats as stats\n",
    "import scipy.linalg as sla"
   ]
  },
  {
   "cell_type": "code",
   "execution_count": 7,
   "id": "virgin-memorabilia",
   "metadata": {},
   "outputs": [],
   "source": [
    "# Create test matrices\n",
    "# Enter a value of n\n",
    "n=100\n",
    "# Sets reproducibility\n",
    "np.random.seed(3) \n",
    "# Use Poisson\n",
    "rvs = stats.poisson(18, loc=10).rvs\n",
    "# Generate test matrices A and b\n",
    "A = sparse.random(n, n, density=0.75, data_rvs=rvs).toarray()\n",
    "b = sparse.random(n, 1, density=0.9, data_rvs=rvs).toarray()"
   ]
  },
  {
   "cell_type": "code",
   "execution_count": 8,
   "id": "indoor-method",
   "metadata": {},
   "outputs": [
    {
     "name": "stdout",
     "output_type": "stream",
     "text": [
      "Approximate total absolute error compared to built-in solver\n",
      "2.179978420002726e-12\n"
     ]
    }
   ],
   "source": [
    "# cramer_solve\n",
    "x = cramer_solve(A,b)\n",
    "\n",
    "# numpy solve\n",
    "y=linalg.solve(A,b)\n",
    "\n",
    "print (\"Approximate total absolute error compared to built-in solver\")\n",
    "print(sum(abs(x-y)))"
   ]
  },
  {
   "cell_type": "markdown",
   "id": "nearby-arrest",
   "metadata": {},
   "source": [
    "### Problems\n",
    "\n",
    "* The determinant calculations can overflow the data type\n",
    "* Some conditioning will be needed to prevent overflow\n",
    "* Duplication of some calculations\n",
    "* This is not an optimized algorithm"
   ]
  },
  {
   "cell_type": "markdown",
   "id": "animated-medication",
   "metadata": {},
   "source": [
    "# Time to run"
   ]
  },
  {
   "cell_type": "code",
   "execution_count": 11,
   "id": "empirical-asset",
   "metadata": {},
   "outputs": [
    {
     "name": "stdout",
     "output_type": "stream",
     "text": [
      "CPU time for Cramer_solve = 1.24071 seconds\n"
     ]
    }
   ],
   "source": [
    "# Solve Ax=b by Cramer formulas\n",
    "t0 = time.time()\n",
    "# Set iterations and matrix size\n",
    "i=100\n",
    "for n in range(10, 10+i):\n",
    "    np.random.seed(n) \n",
    "    rvs = stats.poisson(18, loc=10).rvs\n",
    "    A = sparse.random(n, n, density=0.75, data_rvs=rvs).toarray()\n",
    "    b = sparse.random(n, 1, density=0.9, data_rvs=rvs).toarray()\n",
    "    x = cramer_solve(A,b)\n",
    "t1 = time.time() \n",
    "print('CPU time for Cramer_solve = %g seconds'%(t1 - t0))"
   ]
  },
  {
   "cell_type": "code",
   "execution_count": 12,
   "id": "innovative-asian",
   "metadata": {},
   "outputs": [
    {
     "name": "stdout",
     "output_type": "stream",
     "text": [
      "CPU time for Cramer_solve = 0.145641 seconds\n"
     ]
    }
   ],
   "source": [
    "# Solve Ax=b by built-in methods\n",
    "t0 = time.time()\n",
    "# Set iterations and matrix size\n",
    "i=100\n",
    "for n in range(10, 10+i):\n",
    "    np.random.seed(n) \n",
    "    rvs = stats.poisson(18, loc=10).rvs\n",
    "    A = sparse.random(n, n, density=0.75, data_rvs=rvs).toarray()\n",
    "    b = sparse.random(n, 1, density=0.9, data_rvs=rvs).toarray()\n",
    "    x = linalg.solve(A,b)\n",
    "t1 = time.time() \n",
    "print('CPU time for Cramer_solve = %g seconds'%(t1 - t0))"
   ]
  },
  {
   "cell_type": "code",
   "execution_count": null,
   "id": "stunning-support",
   "metadata": {},
   "outputs": [],
   "source": [
    "# cProfile.run(linalg.solve(A,b))"
   ]
  }
 ],
 "metadata": {
  "@webio": {
   "lastCommId": null,
   "lastKernelId": null
  },
  "kernelspec": {
   "display_name": "Python 3",
   "language": "python",
   "name": "python3"
  },
  "language_info": {
   "codemirror_mode": {
    "name": "ipython",
    "version": 3
   },
   "file_extension": ".py",
   "mimetype": "text/x-python",
   "name": "python",
   "nbconvert_exporter": "python",
   "pygments_lexer": "ipython3",
   "version": "3.6.12"
  }
 },
 "nbformat": 4,
 "nbformat_minor": 5
}
