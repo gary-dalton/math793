{
 "cells": [
  {
   "cell_type": "code",
   "execution_count": 39,
   "id": "romance-maximum",
   "metadata": {},
   "outputs": [],
   "source": [
    "using AbstractAlgebra\n",
    "using LinearAlgebra"
   ]
  },
  {
   "cell_type": "code",
   "execution_count": 40,
   "id": "passive-ground",
   "metadata": {},
   "outputs": [],
   "source": [
    "function swap_rows(A, i,j)\n",
    "    M = copy(A)\n",
    "    a = M[i,:]\n",
    "    M[i,:] = M[j,:]\n",
    "    M[j,:] = a\n",
    "    return M\n",
    "end\n",
    "function swap_rows!(M, i,j)\n",
    "    a = M[i,:]\n",
    "    M[i,:] = M[j,:]\n",
    "    M[j,:] = a\n",
    "    return M\n",
    "end\n",
    "function augment_i(M)\n",
    "    P = identity_matrix(M)\n",
    "    return hcat(M, P)\n",
    "end\n",
    "function augment_b(M, b)\n",
    "    return hcat(M,b)\n",
    "end;"
   ]
  },
  {
   "cell_type": "markdown",
   "id": "reduced-samoa",
   "metadata": {},
   "source": [
    "# Set coefficient matrix"
   ]
  },
  {
   "cell_type": "code",
   "execution_count": 86,
   "id": "protecting-offer",
   "metadata": {},
   "outputs": [],
   "source": [
    "Mo = ZZ[\n",
    "    1 2 3;\n",
    "    2 3 4;\n",
    "    4 5 5\n",
    "    ]\n",
    "M = copy(Mo);"
   ]
  },
  {
   "cell_type": "code",
   "execution_count": 83,
   "id": "worth-clarity",
   "metadata": {},
   "outputs": [
    {
     "data": {
      "text/plain": [
       "[1  2  3]\n",
       "[2  3  4]\n",
       "[4  5  5]"
      ]
     },
     "execution_count": 83,
     "metadata": {},
     "output_type": "execute_result"
    }
   ],
   "source": [
    "M"
   ]
  },
  {
   "cell_type": "code",
   "execution_count": 84,
   "id": "unlimited-experiment",
   "metadata": {},
   "outputs": [
    {
     "data": {
      "text/plain": [
       "[-5   5  -1]\n",
       "[ 6  -7   2]\n",
       "[-2   3  -1]"
      ]
     },
     "execution_count": 84,
     "metadata": {},
     "output_type": "execute_result"
    }
   ],
   "source": [
    "inv(M)"
   ]
  },
  {
   "cell_type": "markdown",
   "id": "occupied-campus",
   "metadata": {},
   "source": [
    "# Augment with I"
   ]
  },
  {
   "cell_type": "code",
   "execution_count": 87,
   "id": "southeast-jordan",
   "metadata": {},
   "outputs": [
    {
     "data": {
      "text/plain": [
       "[1  2  3  1  0  0]\n",
       "[2  3  4  0  1  0]\n",
       "[4  5  5  0  0  1]"
      ]
     },
     "execution_count": 87,
     "metadata": {},
     "output_type": "execute_result"
    }
   ],
   "source": [
    "Ao = augment_i(M)\n",
    "A = copy(Ao)"
   ]
  },
  {
   "cell_type": "markdown",
   "id": "fancy-expense",
   "metadata": {},
   "source": [
    "# Set b and augment with b"
   ]
  },
  {
   "cell_type": "code",
   "execution_count": 85,
   "id": "comfortable-cargo",
   "metadata": {},
   "outputs": [
    {
     "data": {
      "text/plain": [
       "[1  2  3  1]\n",
       "[2  3  4  2]\n",
       "[4  5  5  3]"
      ]
     },
     "execution_count": 85,
     "metadata": {},
     "output_type": "execute_result"
    }
   ],
   "source": [
    "b = ZZ[\n",
    "    1;\n",
    "    2;\n",
    "    3\n",
    "]\n",
    "Ao = augment_b(M, b)\n",
    "A = copy(Ao)"
   ]
  },
  {
   "cell_type": "code",
   "execution_count": 75,
   "id": "considerable-short",
   "metadata": {},
   "outputs": [
    {
     "data": {
      "text/plain": [
       "[ 2]\n",
       "[-2]\n",
       "[ 1]"
      ]
     },
     "execution_count": 75,
     "metadata": {},
     "output_type": "execute_result"
    }
   ],
   "source": [
    "inv(M)*b"
   ]
  },
  {
   "cell_type": "markdown",
   "id": "sustainable-giant",
   "metadata": {},
   "source": [
    "# Swap rows"
   ]
  },
  {
   "cell_type": "code",
   "execution_count": 76,
   "id": "secure-david",
   "metadata": {},
   "outputs": [
    {
     "data": {
      "text/plain": [
       "[4  5  5  3]\n",
       "[2  3  4  2]\n",
       "[1  2  3  1]"
      ]
     },
     "execution_count": 76,
     "metadata": {},
     "output_type": "execute_result"
    }
   ],
   "source": [
    "ra = 1\n",
    "rb = 3\n",
    "swap_rows!(A, ra, rb)\n",
    "A"
   ]
  },
  {
   "cell_type": "markdown",
   "id": "accomplished-manor",
   "metadata": {},
   "source": [
    "# Add row to row"
   ]
  },
  {
   "cell_type": "code",
   "execution_count": 88,
   "id": "external-hepatitis",
   "metadata": {},
   "outputs": [
    {
     "data": {
      "text/plain": [
       "[1   2   3   1  0  0]\n",
       "[0  -1  -2  -2  1  0]\n",
       "[4   5   5   0  0  1]"
      ]
     },
     "execution_count": 88,
     "metadata": {},
     "output_type": "execute_result"
    }
   ],
   "source": [
    "ra = 1\n",
    "times = -2\n",
    "rb = 2\n",
    "add_row!(A, times, ra, rb)\n",
    "A"
   ]
  },
  {
   "cell_type": "code",
   "execution_count": 89,
   "id": "bridal-thesaurus",
   "metadata": {},
   "outputs": [
    {
     "data": {
      "text/plain": [
       "[1   2   3   1  0  0]\n",
       "[0  -1  -2  -2  1  0]\n",
       "[0  -3  -7  -4  0  1]"
      ]
     },
     "execution_count": 89,
     "metadata": {},
     "output_type": "execute_result"
    }
   ],
   "source": [
    "ra = 1\n",
    "times = -4\n",
    "rb = 3\n",
    "add_row!(A, times, ra, rb)\n",
    "A"
   ]
  },
  {
   "cell_type": "markdown",
   "id": "latter-baking",
   "metadata": {},
   "source": [
    "# Multiply row by scalar"
   ]
  },
  {
   "cell_type": "code",
   "execution_count": 90,
   "id": "coated-adobe",
   "metadata": {},
   "outputs": [
    {
     "data": {
      "text/plain": [
       "[1   2   3   1   0  0]\n",
       "[0   1   2   2  -1  0]\n",
       "[0  -3  -7  -4   0  1]"
      ]
     },
     "execution_count": 90,
     "metadata": {},
     "output_type": "execute_result"
    }
   ],
   "source": [
    "ra = 2\n",
    "times = -1\n",
    "multiply_row!(A, times, ra)"
   ]
  },
  {
   "cell_type": "code",
   "execution_count": 91,
   "id": "supported-paper",
   "metadata": {},
   "outputs": [
    {
     "data": {
      "text/plain": [
       "[1   0  -1  -3   2  0]\n",
       "[0   1   2   2  -1  0]\n",
       "[0  -3  -7  -4   0  1]"
      ]
     },
     "execution_count": 91,
     "metadata": {},
     "output_type": "execute_result"
    }
   ],
   "source": [
    "ra = 2\n",
    "times = -2\n",
    "rb = 1\n",
    "add_row!(A, times, ra, rb)\n",
    "A"
   ]
  },
  {
   "cell_type": "code",
   "execution_count": 92,
   "id": "independent-dictionary",
   "metadata": {},
   "outputs": [
    {
     "data": {
      "text/plain": [
       "[1  0  -1  -3   2  0]\n",
       "[0  1   2   2  -1  0]\n",
       "[0  0  -1   2  -3  1]"
      ]
     },
     "execution_count": 92,
     "metadata": {},
     "output_type": "execute_result"
    }
   ],
   "source": [
    "ra = 2\n",
    "times = 3\n",
    "rb = 3\n",
    "add_row!(A, times, ra, rb)\n",
    "A"
   ]
  },
  {
   "cell_type": "markdown",
   "id": "electoral-salem",
   "metadata": {},
   "source": [
    "# Final pivot"
   ]
  },
  {
   "cell_type": "code",
   "execution_count": 93,
   "id": "romantic-antarctica",
   "metadata": {},
   "outputs": [
    {
     "data": {
      "text/plain": [
       "[1  0  -1  -3   2   0]\n",
       "[0  1   2   2  -1   0]\n",
       "[0  0   1  -2   3  -1]"
      ]
     },
     "execution_count": 93,
     "metadata": {},
     "output_type": "execute_result"
    }
   ],
   "source": [
    "ra = 3\n",
    "times = -1\n",
    "multiply_row!(A, times, ra)"
   ]
  },
  {
   "cell_type": "code",
   "execution_count": 94,
   "id": "vulnerable-product",
   "metadata": {},
   "outputs": [
    {
     "data": {
      "text/plain": [
       "[1  0  0  -5   5  -1]\n",
       "[0  1  2   2  -1   0]\n",
       "[0  0  1  -2   3  -1]"
      ]
     },
     "execution_count": 94,
     "metadata": {},
     "output_type": "execute_result"
    }
   ],
   "source": [
    "ra = 3\n",
    "times = 1\n",
    "rb = 1\n",
    "add_row!(A, times, ra, rb)\n",
    "A"
   ]
  },
  {
   "cell_type": "code",
   "execution_count": 95,
   "id": "opponent-halloween",
   "metadata": {},
   "outputs": [
    {
     "data": {
      "text/plain": [
       "[1  0  0  -5   5  -1]\n",
       "[0  1  0   6  -7   2]\n",
       "[0  0  1  -2   3  -1]"
      ]
     },
     "execution_count": 95,
     "metadata": {},
     "output_type": "execute_result"
    }
   ],
   "source": [
    "ra = 3\n",
    "times = -2\n",
    "rb = 2\n",
    "add_row!(A, times, ra, rb)\n",
    "A"
   ]
  },
  {
   "cell_type": "code",
   "execution_count": null,
   "id": "controlled-recognition",
   "metadata": {},
   "outputs": [],
   "source": []
  }
 ],
 "metadata": {
  "kernelspec": {
   "display_name": "Julia 1.4.1",
   "language": "julia",
   "name": "julia-1.4"
  },
  "language_info": {
   "file_extension": ".jl",
   "mimetype": "application/julia",
   "name": "julia",
   "version": "1.4.1"
  }
 },
 "nbformat": 4,
 "nbformat_minor": 5
}
