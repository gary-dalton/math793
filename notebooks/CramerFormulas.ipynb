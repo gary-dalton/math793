{
 "cells": [
  {
   "cell_type": "markdown",
   "metadata": {},
   "source": [
    "# Solve a linear system by Cramer formulas \n",
    "We consider the **linear system** in the matrix form \n",
    "\\begin{equation}\n",
    " Ax=b, \n",
    "\\end{equation}\n",
    "where *A* is a nonsingular $n\\times n$ matrix, $b$ is a given $n\\times 1$ vector, and $x$ is a $n\\times 1$ unknown vector."
   ]
  },
  {
   "cell_type": "code",
   "execution_count": 10,
   "metadata": {},
   "outputs": [],
   "source": [
    "# import numpy\n",
    "import numpy as np\n",
    "# a simple implementation using numpy\n",
    "from numpy import linalg\n",
    "import math\n",
    "import time\n",
    "from scipy import io"
   ]
  },
  {
   "cell_type": "code",
   "execution_count": 2,
   "metadata": {},
   "outputs": [],
   "source": [
    "# Enter a value of n\n",
    "n=500\n",
    "# Set storage for arrays\n",
    "b=np.ones((n,1))\n",
    "c=np.ones((n,1))\n",
    "c[:,0] = np.array(range(n)) + 1\n",
    "A = np.matmul(c,np.ones((1,n)))\n",
    "# Produce a symmetric matrix of A\n",
    "#  A = A + A'\n",
    "A = A + np.transpose(A)"
   ]
  },
  {
   "cell_type": "code",
   "execution_count": 9,
   "metadata": {},
   "outputs": [
    {
     "name": "stdout",
     "output_type": "stream",
     "text": [
      "count = 1\n",
      "det(A) = inf\n"
     ]
    },
    {
     "name": "stderr",
     "output_type": "stream",
     "text": [
      "C:\\Users\\gary\\Anaconda3\\lib\\site-packages\\numpy\\linalg\\linalg.py:2159: RuntimeWarning: overflow encountered in det\n",
      "  r = _umath_linalg.det(a, signature=signature)\n"
     ]
    }
   ],
   "source": [
    "# Modify A as a nonsingular matrix\n",
    "s= 0.0\n",
    "check = 0.0\n",
    "count = 0\n",
    "while check < 1.0e-15:\n",
    "    s = s + 1.0\n",
    "    for i in range(n):\n",
    "        A[i,i]=A[i,i] + s\n",
    "    check = abs(np.linalg.det(A))\n",
    "    count = count + 1\n",
    "print(\"count = %g\"%count)    \n",
    "print(\"det(A) = %g\"%np.linalg.det(A))"
   ]
  },
  {
   "cell_type": "code",
   "execution_count": 4,
   "metadata": {},
   "outputs": [],
   "source": [
    "def cramerRule(A,b):\n",
    "    '''\n",
    "    Cramer formulas for solving \n",
    "       Ax = b\n",
    "    Input: A, b\n",
    "    Output: x\n",
    "    '''\n",
    "    n=A.shape[0]\n",
    "    # Find the determinant of A\n",
    "    d=np.linalg.det(A)\n",
    "    # Create x as a nx1 array by\n",
    "    x=np.zeros([n,1])\n",
    "    for i in range(n):\n",
    "        # Produce Ai by replacing the i-th column of A as b\n",
    "        Ai = A.copy()\n",
    "        Ai[:,i]=b[:,0]\n",
    "        # Find the determinant of Ai\n",
    "        di = np.linalg.det(Ai)\n",
    "        x[i] = di/d\n",
    "    return x"
   ]
  },
  {
   "cell_type": "code",
   "execution_count": 10,
   "metadata": {},
   "outputs": [
    {
     "name": "stdout",
     "output_type": "stream",
     "text": [
      "CPU time for Cramer formulas = 0.736183 seconds\n"
     ]
    }
   ],
   "source": [
    "# Solve Ax=b by Cramer formulas\n",
    "t0 = time.time()\n",
    "x=cramerRule(A,b)\n",
    "t1 = time.time() \n",
    "print('CPU time for Cramer formulas = %g seconds'%(t1 - t0))"
   ]
  },
  {
   "cell_type": "code",
   "execution_count": 6,
   "metadata": {},
   "outputs": [
    {
     "name": "stdout",
     "output_type": "stream",
     "text": [
      "CPU time for Gaussian Elination = 0.0107989\n"
     ]
    }
   ],
   "source": [
    "# Solve Ax=b by Gaussian elination\n",
    "t2 = time.time()\n",
    "y=linalg.solve(A,b)\n",
    "t3 = time.time() \n",
    "print('CPU time for Gaussian Elination = %g'%(t3 - t2))"
   ]
  },
  {
   "cell_type": "code",
   "execution_count": 7,
   "metadata": {},
   "outputs": [
    {
     "name": "stdout",
     "output_type": "stream",
     "text": [
      "Error || x - y || = 5.8337e-15\n"
     ]
    }
   ],
   "source": [
    "# Calculate the error\n",
    "error = linalg.norm(x-y)\n",
    "print(\"Error || x - y || = %.4e\"%error)"
   ]
  },
  {
   "cell_type": "code",
   "execution_count": null,
   "metadata": {},
   "outputs": [],
   "source": []
  },
  {
   "cell_type": "code",
   "execution_count": 8,
   "metadata": {},
   "outputs": [
    {
     "name": "stdout",
     "output_type": "stream",
     "text": [
      "CPU time for Gaussian Elination = 0.013782\n",
      "Error || x - z || = 1.1343e-12\n"
     ]
    }
   ],
   "source": [
    "# Solve the linear system by z = A^{-1}*b\n",
    "# Calculate the inverse matrix of matrix A\n",
    "t4 = time.time()\n",
    "inv_A = np.linalg.inv(A)\n",
    "z = inv_A.dot(b)\n",
    "t5 = time.time() \n",
    "print('CPU time for Gaussian Elination = %g'%(t5 - t4))\n",
    "# Calculate the error\n",
    "error = linalg.norm(x-z)\n",
    "print(\"Error || x - z || = %.4e\"%error)"
   ]
  },
  {
   "cell_type": "code",
   "execution_count": 11,
   "metadata": {},
   "outputs": [
    {
     "name": "stdout",
     "output_type": "stream",
     "text": [
      "The factorial of 51 is 1.55112e+66 \n",
      "\n",
      "Using Cramer formulas costs 2.95114e+51 years to solver a linear system with 51 unknowns\n"
     ]
    }
   ],
   "source": [
    "# CPU time estimation on Cramer formulas\n",
    "# returning the factorial \n",
    "y = math.factorial(n)\n",
    "print (\"The factorial of %g is %g \"%(n,y))  \n",
    "day = 365\n",
    "hour = 24\n",
    "minute = 60\n",
    "second = 60\n",
    "ComputerSpeed = 10**9 # per second\n",
    "time4Cramer = y/(day*hour*minute*ComputerSpeed)\n",
    "print(\"\\nUsing Cramer formulas costs %g years to solver a linear system with %g unknowns\"%(time4Cramer,n))"
   ]
  },
  {
   "cell_type": "code",
   "execution_count": null,
   "metadata": {},
   "outputs": [],
   "source": []
  }
 ],
 "metadata": {
  "kernelspec": {
   "display_name": "Python 3",
   "language": "python",
   "name": "python3"
  },
  "language_info": {
   "codemirror_mode": {
    "name": "ipython",
    "version": 3
   },
   "file_extension": ".py",
   "mimetype": "text/x-python",
   "name": "python",
   "nbconvert_exporter": "python",
   "pygments_lexer": "ipython3",
   "version": "3.6.12"
  }
 },
 "nbformat": 4,
 "nbformat_minor": 2
}
